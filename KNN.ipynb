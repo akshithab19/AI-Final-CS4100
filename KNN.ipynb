{
 "cells": [
  {
   "cell_type": "code",
   "execution_count": 1,
   "metadata": {},
   "outputs": [],
   "source": [
    "# load libraries\n",
    "import numpy as np\n",
    "import heapq\n",
    "import pickle\n",
    "import matplotlib.pyplot as plt\n",
    "from sklearn.model_selection import train_test_split"
   ]
  },
  {
   "cell_type": "code",
   "execution_count": 2,
   "metadata": {},
   "outputs": [],
   "source": [
    "# load saved training/validation/test data\n",
    "with open('train_val_test_data.pkl', 'rb') as file:\n",
    "    X_train, X_val, X_test, y_train, y_val, y_test = pickle.load(file)"
   ]
  },
  {
   "cell_type": "code",
   "execution_count": 3,
   "metadata": {},
   "outputs": [],
   "source": [
    "# select specific features of the input passwords for knn\n",
    "knn_features = ['length', 'uppercase_count', 'lowercase_count', 'numbers_count', 'special_character_count', 'entropy']\n",
    "X_train = X_train[knn_features].to_numpy()\n",
    "X_val = X_val[knn_features].to_numpy()\n",
    "X_test = X_test[knn_features].to_numpy()"
   ]
  },
  {
   "cell_type": "code",
   "execution_count": 4,
   "metadata": {},
   "outputs": [],
   "source": [
    "# sample from X_train to reduce number of comparisons\n",
    "X_train_sampled, _, y_train_sampled, _ = train_test_split(X_train, y_train, train_size=0.1, random_state=42)"
   ]
  },
  {
   "cell_type": "code",
   "execution_count": 5,
   "metadata": {},
   "outputs": [],
   "source": [
    "# flatten the label data\n",
    "y_train = y_train.flatten()\n",
    "y_val = y_val.flatten()\n",
    "y_test = y_test.flatten()"
   ]
  },
  {
   "cell_type": "code",
   "execution_count": 6,
   "metadata": {},
   "outputs": [],
   "source": [
    "# calculate accuracy given the true labels and the predictions\n",
    "def accuracy(y_truth, y_pred):\n",
    "    correct_pred = 0\n",
    "    # iterate through the values and check if the labels are the same, update as required\n",
    "    for y_t, y_p in zip(y_truth, y_pred):\n",
    "        if y_t == y_p :\n",
    "            correct_pred += 1\n",
    "    # find the proportion by dividing the correct predictions by all the predictions\n",
    "    return correct_pred / len(y_truth)"
   ]
  },
  {
   "cell_type": "code",
   "execution_count": 7,
   "metadata": {},
   "outputs": [],
   "source": [
    "# k nearest neighbors function\n",
    "def knn(X, X_train_data, y_train_data, num_classes, k, norm_order):\n",
    "    # initialize list of predictions\n",
    "    y_pred = []\n",
    "    for x in X:\n",
    "        # find the distances to the training data\n",
    "        distances_with_indexes = []\n",
    "        # iterate through the training data and find the distances to each point using the normalization order\n",
    "        for i in range(len(X_train_data)):\n",
    "            # store the top k data points that are closest to x\n",
    "            if len(distances_with_indexes) < k:\n",
    "                heapq.heappush(distances_with_indexes, (-1 * np.linalg.norm(X_train_data[i] - x, ord=norm_order), i))\n",
    "            else:\n",
    "                heapq.heappushpop(distances_with_indexes, (-1 * np.linalg.norm(X_train_data[i] - x, ord=norm_order), i))\n",
    "        # initialize class counts to zero\n",
    "        class_counts = np.zeros(num_classes)\n",
    "        # iterate through the k nearest neighbors and find the counts of each label\n",
    "        for distance, index in distances_with_indexes:\n",
    "            class_counts[y_train_data[index]] += 1\n",
    "        # append the class with the greatest count in the neighbors as the predicted label for this x\n",
    "        y_pred.append(np.argmax(class_counts))\n",
    "    return y_pred"
   ]
  },
  {
   "cell_type": "code",
   "execution_count": 9,
   "metadata": {},
   "outputs": [
    {
     "name": "stdout",
     "output_type": "stream",
     "text": [
      "KNN Train Accuracy: 0.9700375\n"
     ]
    }
   ],
   "source": [
    "# find the accuracy metrics for each set of data using knn\n",
    "train_predictions = knn(X_train, X_train_sampled, y_train_sampled, 5, 10, 1)\n",
    "train_accuracy = accuracy(y_train, train_predictions)\n",
    "print(\"KNN Train Accuracy:\", train_accuracy)"
   ]
  },
  {
   "cell_type": "code",
   "execution_count": 10,
   "metadata": {},
   "outputs": [
    {
     "name": "stdout",
     "output_type": "stream",
     "text": [
      "KNN Validation Accuracy: 0.9677\n"
     ]
    }
   ],
   "source": [
    "# find the accuracy metrics for each set of data using knn\n",
    "val_predictions = knn(X_val, X_train_sampled, y_train_sampled, 5, 10, 1)\n",
    "val_accuracy = accuracy(y_val, val_predictions)\n",
    "print(\"KNN Validation Accuracy:\", val_accuracy)"
   ]
  },
  {
   "cell_type": "code",
   "execution_count": 11,
   "metadata": {},
   "outputs": [
    {
     "name": "stdout",
     "output_type": "stream",
     "text": [
      "KNN Test Accuracy: 0.9684\n"
     ]
    }
   ],
   "source": [
    "# find the accuracy metrics for each set of data using knn\n",
    "test_predictions = knn(X_test, X_train_sampled, y_train_sampled, 5, 10, 1)\n",
    "test_accuracy = accuracy(y_test, test_predictions)\n",
    "print(\"KNN Test Accuracy:\", test_accuracy)"
   ]
  }
 ],
 "metadata": {
  "kernelspec": {
   "display_name": "base",
   "language": "python",
   "name": "python3"
  },
  "language_info": {
   "codemirror_mode": {
    "name": "ipython",
    "version": 3
   },
   "file_extension": ".py",
   "mimetype": "text/x-python",
   "name": "python",
   "nbconvert_exporter": "python",
   "pygments_lexer": "ipython3",
   "version": "3.12.7"
  }
 },
 "nbformat": 4,
 "nbformat_minor": 2
}
