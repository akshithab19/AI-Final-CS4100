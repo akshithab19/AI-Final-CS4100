{
 "cells": [
  {
   "cell_type": "code",
   "execution_count": 1,
   "metadata": {},
   "outputs": [],
   "source": [
    "# load libraries\n",
    "import numpy as np\n",
    "import heapq\n",
    "import pickle"
   ]
  },
  {
   "cell_type": "code",
   "execution_count": 2,
   "metadata": {},
   "outputs": [],
   "source": [
    "# load saved training/validation/test data\n",
    "with open('train_val_test_data.pkl', 'rb') as file:\n",
    "    X_train, X_val, X_test, y_train, y_val, y_test = pickle.load(file)"
   ]
  },
  {
   "cell_type": "code",
   "execution_count": 3,
   "metadata": {},
   "outputs": [],
   "source": [
    "# calculate accuracy given the true labels and the predictions\n",
    "def accuracy(y_truth, y_pred):\n",
    "    correct_pred = 0\n",
    "    # iterate through the values and check if the labels are the same, update as required\n",
    "    for y_t, y_p in zip(y_truth, y_pred):\n",
    "        if y_t == y_p :\n",
    "            correct_pred += 1\n",
    "    # find the proportion by dividing the correct predictions by all the predictions\n",
    "    return correct_pred / len(y_truth)"
   ]
  },
  {
   "cell_type": "code",
   "execution_count": 4,
   "metadata": {},
   "outputs": [],
   "source": [
    "# k nearest neighbors function\n",
    "def knn(X, num_classes, k, norm_order):\n",
    "    # initialize list of predictions\n",
    "    y_pred = []\n",
    "    for x in X:\n",
    "        # find the distances to the training data\n",
    "        distances_with_indexes = []\n",
    "        # iterate through the training data and find the distances to each point using the normalization order\n",
    "        for i in range(len(X_train)):\n",
    "            # store the top k data points that are closest to x\n",
    "            if len(distances_with_indexes) < k:\n",
    "                heapq.heappush(distances_with_indexes, (-1 * np.linalg.norm(X_train[i] - x, ord=norm_order), i))\n",
    "            else:\n",
    "                heapq.heappushpop(distances_with_indexes, (-1 * np.linalg.norm(X_train[i] - x, ord=norm_order), i))\n",
    "        # initialize class counts to zero\n",
    "        class_counts = np.zeros(num_classes)\n",
    "        # iterate through the k nearest neighbors and find the counts of each label\n",
    "        for distance, index in distances_with_indexes:\n",
    "            class_counts[y_train[index]] += 1\n",
    "        # append the class with the greatest count in the neighbors as the predicted label for this x\n",
    "        y_pred.append(np.argmax(class_counts))\n",
    "    return y_pred"
   ]
  },
  {
   "cell_type": "code",
   "execution_count": null,
   "metadata": {},
   "outputs": [
    {
     "name": "stdout",
     "output_type": "stream",
     "text": [
      "KNN Train Accuracy: 0.9876875\n"
     ]
    }
   ],
   "source": [
    "# find the accuracy metrics for each set of data using knn\n",
    "train_predictions = knn(X_train, 5, 20, 2)\n",
    "train_accuracy = accuracy(y_train.reshape(1, -1)[0], train_predictions)\n",
    "print(\"KNN Train Accuracy:\", train_accuracy)"
   ]
  },
  {
   "cell_type": "code",
   "execution_count": null,
   "metadata": {},
   "outputs": [
    {
     "name": "stdout",
     "output_type": "stream",
     "text": [
      "KNN Validation Accuracy: 0.9877\n"
     ]
    }
   ],
   "source": [
    "# find the accuracy metrics for each set of data using knn\n",
    "val_predictions = knn(X_val, 5, 20, 5)\n",
    "val_accuracy = accuracy(y_val.reshape(1, -1)[0], val_predictions)\n",
    "print(\"KNN Validation Accuracy:\", val_accuracy)"
   ]
  },
  {
   "cell_type": "code",
   "execution_count": null,
   "metadata": {},
   "outputs": [
    {
     "name": "stdout",
     "output_type": "stream",
     "text": [
      "KNN Test Accuracy: 0.9865\n"
     ]
    }
   ],
   "source": [
    "# find the accuracy metrics for each set of data using knn\n",
    "test_predictions = knn(X_test, 5, 20, 5)\n",
    "test_accuracy = accuracy(y_test.reshape(1, -1)[0], test_predictions)\n",
    "print(\"KNN Test Accuracy:\", test_accuracy)"
   ]
  }
 ],
 "metadata": {
  "kernelspec": {
   "display_name": "base",
   "language": "python",
   "name": "python3"
  },
  "language_info": {
   "codemirror_mode": {
    "name": "ipython",
    "version": 3
   },
   "file_extension": ".py",
   "mimetype": "text/x-python",
   "name": "python",
   "nbconvert_exporter": "python",
   "pygments_lexer": "ipython3",
   "version": "3.12.7"
  }
 },
 "nbformat": 4,
 "nbformat_minor": 2
}
