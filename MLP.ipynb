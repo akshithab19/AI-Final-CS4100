{
 "cells": [
  {
   "cell_type": "code",
   "execution_count": 1,
   "metadata": {},
   "outputs": [],
   "source": [
    "# load libraries\n",
    "import numpy as np\n",
    "import pickle"
   ]
  },
  {
   "cell_type": "code",
   "execution_count": 15,
   "metadata": {},
   "outputs": [],
   "source": [
    "# load saved training/validation/test data\n",
    "with open('train_val_test_data.pkl', 'rb') as file:\n",
    "    X_train, X_val, X_test, y_train, y_val, y_test = pickle.load(file)"
   ]
  },
  {
   "cell_type": "code",
   "execution_count": 16,
   "metadata": {},
   "outputs": [],
   "source": [
    "# select specific features of the input passwords\n",
    "mlp_features = ['length', 'uppercase_count', 'lowercase_count', 'numbers_count', 'special_character_count', 'entropy']\n",
    "X_train = X_train[mlp_features].to_numpy()\n",
    "X_val = X_val[mlp_features].to_numpy()\n",
    "X_test = X_test[mlp_features].to_numpy()"
   ]
  },
  {
   "cell_type": "code",
   "execution_count": 4,
   "metadata": {},
   "outputs": [],
   "source": [
    "# flatten the label data\n",
    "y_train = y_train.flatten()\n",
    "y_val = y_val.flatten()\n",
    "y_test = y_test.flatten()"
   ]
  },
  {
   "cell_type": "code",
   "execution_count": 5,
   "metadata": {},
   "outputs": [],
   "source": [
    "# calculate accuracy given the true labels and the predictions\n",
    "def accuracy(y_truth, y_pred):\n",
    "    correct_pred = 0\n",
    "    # iterate through the values and check if the labels are the same, update as required\n",
    "    for y_t, y_p in zip(y_truth, y_pred):\n",
    "        if y_t == y_p :\n",
    "            correct_pred += 1\n",
    "    # find the proportion by dividing the correct predictions by all the predictions\n",
    "    return correct_pred / len(y_truth)"
   ]
  },
  {
   "cell_type": "code",
   "execution_count": 6,
   "metadata": {},
   "outputs": [],
   "source": [
    "# softmax function\n",
    "def softmax(z):\n",
    "   exp_z = np.exp(z - np.max(z, axis = 1, keepdims = True))\n",
    "   return exp_z / np.sum(exp_z, axis = 1, keepdims = True)"
   ]
  },
  {
   "cell_type": "code",
   "execution_count": 7,
   "metadata": {},
   "outputs": [],
   "source": [
    "# relu activation function\n",
    "def relu(x):\n",
    "    return np.maximum(0, x)\n",
    "\n",
    "# derivative of relu for backprop\n",
    "def relu_derivative(x):\n",
    "    return (x > 0).astype(float)"
   ]
  },
  {
   "cell_type": "code",
   "execution_count": 8,
   "metadata": {},
   "outputs": [],
   "source": [
    "# MLP forward function to pass through inputs and weights/biases to retrieve the outputs of last hidden layer\n",
    "def forward(X, weights, biases, verbose=False):\n",
    "    # initialize list of layer outputs\n",
    "    all_layer_outputs = []\n",
    "\n",
    "    # number of hidden layers is 1 less than the number of weights\n",
    "    num_hidden_layers = len(weights) - 1\n",
    "\n",
    "    # initial layer's inputs is the original X\n",
    "    next_layer_inputs = X\n",
    "    # create num_hidden_layers layers using a for loop\n",
    "    for layer in range(num_hidden_layers):\n",
    "        # calculate the inputs to this hidden layer\n",
    "        layer_logits = next_layer_inputs.dot(weights[layer]) + biases[layer]\n",
    "        # find the outputs of the this hidden layer using the activation function\n",
    "        layer_outputs = relu(layer_logits)\n",
    "        # save this layer's outputs as the next layer's inputs\n",
    "        next_layer_inputs = layer_outputs.copy()\n",
    "        # add the outputs to the cummulative list\n",
    "        all_layer_outputs.append(layer_outputs.copy())\n",
    "\n",
    "    # calculate the inputs to the ouput layer\n",
    "    output_layer_logits = next_layer_inputs.dot(weights[-1]) + biases[-1]\n",
    "    # find the outputs of the output layer using the activation function\n",
    "    output_layer_outputs = softmax(output_layer_logits)\n",
    "    # add the output layer outputs to the cummulative list\n",
    "    all_layer_outputs.append(output_layer_outputs.copy())\n",
    "    \n",
    "    if verbose:\n",
    "        print(\"\\nforward:\\n\", all_layer_outputs[-1])\n",
    "\n",
    "    # return list of outputs of all layers to calculate the error using backprop\n",
    "    return all_layer_outputs"
   ]
  },
  {
   "cell_type": "code",
   "execution_count": 9,
   "metadata": {},
   "outputs": [],
   "source": [
    "# MLP backward function to calculate the error using backpropagation\n",
    "def backward(X, y, all_layer_outputs, weights, biases, learning_rate, verbose=False):\n",
    "    # find the number of samples\n",
    "    samples = y.shape[0]\n",
    "\n",
    "    # the number of hidden layers is one less than the number of weights\n",
    "    num_hidden_layers = len(weights) - 1\n",
    "\n",
    "    # total layers in MLP\n",
    "    total_layers = num_hidden_layers + 1\n",
    "\n",
    "    # initialize gradients of each layer's weights and biases as they will be calculated in reverse\n",
    "    weights_gradient = [None] * total_layers\n",
    "    biases_gradient = [None] * total_layers\n",
    "\n",
    "    # calculate the initial error as the difference between predictions and true labels (one-hot encoded y data)\n",
    "    error = all_layer_outputs[-1] - y\n",
    "    \n",
    "    # calculate the gradient of each layer's weights and bias term by using the derivative of loss function \n",
    "    for layer in range(num_hidden_layers, 0, -1):\n",
    "        previous_layer_outputs = all_layer_outputs[layer - 1]\n",
    "        weights_gradient[layer] = previous_layer_outputs.T.dot(error) / samples\n",
    "        biases_gradient[layer] = np.sum(error, axis=0, keepdims=True) / samples\n",
    "        \n",
    "        # inputs to previous layer are outputs from 2 layers before this current layer, otherwise initial inputs X\n",
    "        if layer > 1:\n",
    "            previous_layer_inputs = all_layer_outputs[layer - 2]\n",
    "        else:\n",
    "            previous_layer_inputs = X\n",
    "            \n",
    "        # backpropogate error from this layer to previous layer\n",
    "        current_layer_logits = previous_layer_inputs.dot(weights[layer - 1]) + biases[layer - 1]\n",
    "        error = error.dot(weights[layer].T) * relu_derivative(current_layer_logits)\n",
    "        if verbose:\n",
    "            print(\"error\", layer, \":\", error)\n",
    "\n",
    "    # calculate gradient of the initial hidden layer's weights and bias term\n",
    "    weights_gradient[0] = X.T.dot(error) / samples\n",
    "    biases_gradient[0] = np.sum(error, axis=0, keepdims=True) / samples\n",
    "\n",
    "    # adjust the weights and bias terms of each layer\n",
    "    for layer in range(total_layers):\n",
    "        weights[layer] -= learning_rate * weights_gradient[layer]\n",
    "        biases[layer] -= learning_rate * biases_gradient[layer]\n",
    "        \n",
    "    return weights, biases"
   ]
  },
  {
   "cell_type": "code",
   "execution_count": 10,
   "metadata": {},
   "outputs": [],
   "source": [
    "# training function for MLP\n",
    "def MLP_train(X, y, num_classes, num_hidden_nodes_per_layer, learning_rate, epochs):\n",
    "    # do one-hot encoding of the y labels\n",
    "    y_one_hot = np.eye(num_classes)[y].reshape(len(y), num_classes)\n",
    "    # input size is the number of features for each password\n",
    "    num_features = X.shape[1]\n",
    "    # number of hidden layers is the length of number of hidden nodes per layer\n",
    "    num_hidden_layers = len(num_hidden_nodes_per_layer)\n",
    "\n",
    "    # initialize weight vectors and bias terms lists (weights and biases for each layer)\n",
    "    weights = []\n",
    "    biases = []\n",
    "    # initial rows in weights is columns in X\n",
    "    previous_layer_dimension = num_features\n",
    "    for layer in range(num_hidden_layers):\n",
    "        weights.append(np.ones((previous_layer_dimension, num_hidden_nodes_per_layer[layer])))\n",
    "        biases.append(np.ones((1, num_hidden_nodes_per_layer[layer])))\n",
    "        # update the previous layer dimension\n",
    "        previous_layer_dimension = num_hidden_nodes_per_layer[layer]\n",
    "\n",
    "    # add the output layer's weights and bias term\n",
    "    weights.append(np.ones((previous_layer_dimension, num_classes)))\n",
    "    biases.append(np.ones((1, num_classes)))\n",
    "\n",
    "    # iterate through the epochs and adjust the weights/biases to learn\n",
    "    for epoch in range(epochs):\n",
    "        # do the forward pass to find the predictions\n",
    "        all_layer_outputs = forward(X, weights, biases)\n",
    "        # do the backward pass to find the error and adjust the weight vectors/bias terms\n",
    "        weights, biases = backward(X, y_one_hot, all_layer_outputs, weights, biases, learning_rate)\n",
    "    \n",
    "    # return the final weights and biases after training\n",
    "    return weights, biases"
   ]
  },
  {
   "cell_type": "code",
   "execution_count": 11,
   "metadata": {},
   "outputs": [],
   "source": [
    "# prediction function that takes the argmax of the outputs of the last layer in the MLP\n",
    "def MLP_predict(X, weights, biases):\n",
    "    # do the foward pass to find the prediction probability distribution\n",
    "    all_layer_outputs = forward(X, weights, biases)\n",
    "    # returns the argmax of the outputs which is the class with the highest probability\n",
    "    return np.argmax(all_layer_outputs[-1], axis=1)"
   ]
  },
  {
   "cell_type": "code",
   "execution_count": 13,
   "metadata": {},
   "outputs": [],
   "source": [
    "weights, biases = MLP_train(X_train, y_train, 5, [3], 0.02, 1000)"
   ]
  },
  {
   "cell_type": "code",
   "execution_count": null,
   "metadata": {},
   "outputs": [
    {
     "name": "stdout",
     "output_type": "stream",
     "text": [
      "MLP Train Accuracy: 0.8203125\n",
      "MLP Validation Accuracy: 0.8164\n",
      "MLP Test Accuracy: 0.8203\n"
     ]
    }
   ],
   "source": [
    "# find the accuracy metrics for each set of data using MLP\n",
    "train_predictions = MLP_predict(X_train, weights, biases)\n",
    "train_accuracy = accuracy(y_train, train_predictions)\n",
    "print(\"MLP Train Accuracy:\", train_accuracy)\n",
    "\n",
    "val_predictions = MLP_predict(X_val, weights, biases)\n",
    "val_accuracy = accuracy(y_val, val_predictions)\n",
    "print(\"MLP Validation Accuracy:\", val_accuracy)\n",
    "\n",
    "test_predictions = MLP_predict(X_test, weights, biases)\n",
    "test_accuracy = accuracy(y_test, test_predictions)\n",
    "print(\"MLP Test Accuracy:\", test_accuracy)"
   ]
  }
 ],
 "metadata": {
  "kernelspec": {
   "display_name": "base",
   "language": "python",
   "name": "python3"
  },
  "language_info": {
   "codemirror_mode": {
    "name": "ipython",
    "version": 3
   },
   "file_extension": ".py",
   "mimetype": "text/x-python",
   "name": "python",
   "nbconvert_exporter": "python",
   "pygments_lexer": "ipython3",
   "version": "3.12.7"
  }
 },
 "nbformat": 4,
 "nbformat_minor": 2
}
